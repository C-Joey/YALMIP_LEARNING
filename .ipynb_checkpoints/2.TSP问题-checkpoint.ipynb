{
 "cells": [
  {
   "cell_type": "code",
   "execution_count": 1,
   "metadata": {},
   "outputs": [
    {
     "name": "stdout",
     "output_type": "stream",
     "text": [
      "\n"
     ]
    }
   ],
   "source": [
    "% 利用yamlip求解TSP问题\n",
    "clear;clc;close all;\n",
    "d = load('tsp_dist_matrix.txt')'; #导入邻接矩阵\n",
    "n = size(d,1);"
   ]
  },
  {
   "cell_type": "code",
   "execution_count": 2,
   "metadata": {},
   "outputs": [
    {
     "name": "stdout",
     "output_type": "stream",
     "text": [
      "\n"
     ]
    }
   ],
   "source": [
    "% 决策变量\n",
    "x = binvar(n,n,'full');\n",
    "u = sdpvar(1,n);"
   ]
  },
  {
   "cell_type": "markdown",
   "metadata": {},
   "source": [
    "* [.*](https://zhidao.baidu.com/question/318809970.html)\n",
    "    数组加法：A+B，数组加法和矩阵加法相同。\n",
    "\n",
    "    数组减法：A-­B ，数组减法和矩阵减法相同。\n",
    "\n",
    "    数组乘法：A.*B，A 和 B 的元素逐个对应相乘，两数组之间必须有相同的形，或其中一个是标量。\n",
    "\n",
    "    矩阵乘法：A*B，A 和 B 的矩阵乘法，A 的列数必须和 B 的行数相同。\n",
    "\n",
    "    数组右除法：A./B，A 和 B 的元素逐个对应相除：A(i,j)/B(i,j)两数组之间必须有相同的形，或其中一个是标量。\n",
    "\n",
    "    数组左除法：A.\\B，A 和 B 的元素逐个对应相除：B(i,j)/A(i,j)两数组之间必须有相同的形，或其中一个是标量。\n",
    "\n",
    "    矩阵右除法：A/B 矩阵除法，等价于 A*inv(B)， inv(B)是 B 的逆阵。\n",
    "\n",
    "    矩阵左除法：A\\B 矩阵除法，等价于 inv(B)*A， inv(A)是 A 的逆阵。\n",
    "\n",
    "    数组指数运算：A.^B，AB中的元素逐个进行如下运算：A(i,j)^B(i,j)，A(i,j)/B(i,j)两数组之间必须有相同的形，或其中一个是标量。"
   ]
  },
  {
   "cell_type": "code",
   "execution_count": 3,
   "metadata": {},
   "outputs": [
    {
     "name": "stdout",
     "output_type": "stream",
     "text": [
      "\n"
     ]
    }
   ],
   "source": [
    "% 目标  \n",
    "z = sum(sum(d.*x));"
   ]
  },
  {
   "cell_type": "markdown",
   "metadata": {},
   "source": [
    "![](image/TSP.png)"
   ]
  },
  {
   "cell_type": "markdown",
   "metadata": {},
   "source": [
    "- '>'（大于），>=（大于等于），<（小于），<=（小于等于）， ==（等于）~=（不等于）\n",
    "* matlab逻辑符号：\n",
    "    &（与），|（或），~（非）， xor（异或）"
   ]
  },
  {
   "cell_type": "code",
   "execution_count": 4,
   "metadata": {},
   "outputs": [
    {
     "name": "stdout",
     "output_type": "stream",
     "text": [
      "\n"
     ]
    }
   ],
   "source": [
    "% 约束添加\n",
    "C = [];\n",
    "for j = 1:n\n",
    "    s = sum(x(:,j))-x(j,j);\n",
    "    C = [C,   s  == 1];\n",
    "end\n",
    "for i = 1:n\n",
    "    s = sum(x(i,:)) - x(i,i);\n",
    "    C = [C, s  == 1];\n",
    "end\n",
    "for i = 2:n\n",
    "    for j = 2:n\n",
    "        if i~=j\n",
    "            C = [C,u(i)-u(j) + n*x(i,j)<=n-1];\n",
    "        end\n",
    "    end\n",
    "end"
   ]
  },
  {
   "cell_type": "code",
   "execution_count": 6,
   "metadata": {},
   "outputs": [
    {
     "name": "stdout",
     "output_type": "stream",
     "text": [
      "警告: 文件: C:\\Program Files\\IBM\\ILOG\\CPLEX_Studio_Community128\\cplex\\matlab\\x64_win64\\@Cplex\\Cplex.p 行: 965 列: 0\n",
      "在嵌套函数中定义 \"changedParam\" 会将其与父函数共享。在以后的版本中，要在父函数和嵌套函数之间共享 \"changedParam\"，请在父函数中显式定义它。\n",
      "> In cplexoptimset\n",
      "  In sdpsettings>setup_cplex_options (line 617)\n",
      "  In sdpsettings (line 145)\n",
      "  In solvesdp (line 131)\n",
      "  In optimize (line 31)\n",
      "Optimize a model with 92 rows, 99 columns and 396 nonzeros\n",
      "Variable types: 9 continuous, 90 integer (90 binary)\n",
      "Coefficient statistics:\n",
      "  Matrix range     [1e+00, 1e+01]\n",
      "  Objective range  [3e+00, 3e+01]\n",
      "  Bounds range     [1e+00, 1e+00]\n",
      "  RHS range        [1e+00, 9e+00]\n",
      "Found heuristic solution: objective 117.0000000\n",
      "Presolve removed 0 rows and 1 columns\n",
      "Presolve time: 0.02s\n",
      "Presolved: 92 rows, 98 columns, 548 nonzeros\n",
      "Variable types: 8 continuous, 90 integer (90 binary)\n",
      "\n",
      "Root relaxation: objective 7.460000e+01, 40 iterations, 0.01 seconds\n",
      "\n",
      "    Nodes    |    Current Node    |     Objective Bounds      |     Work\n",
      " Expl Unexpl |  Obj  Depth IntInf | Incumbent    BestBd   Gap | It/Node Time\n",
      "\n",
      "     0     0   74.60000    0   10  117.00000   74.60000  36.2%     -    0s\n",
      "H    0     0                      77.0000000   74.60000  3.12%     -    0s\n",
      "     0     0     cutoff    0        77.00000   77.00000  0.00%     -    0s\n",
      "\n",
      "Cutting planes:\n",
      "  Learned: 3\n",
      "  MIR: 3\n",
      "\n",
      "Explored 1 nodes (47 simplex iterations) in 0.10 seconds\n",
      "Thread count was 8 (of 8 available processors)\n",
      "\n",
      "Solution count 2: 77 117 \n",
      "\n",
      "Optimal solution found (tolerance 1.00e-04)\n",
      "Best objective 7.700000000000e+01, best bound 7.700000000000e+01, gap 0.0000%\n",
      "\n"
     ]
    }
   ],
   "source": [
    "% 求解\n",
    "result= optimize(C,z);"
   ]
  },
  {
   "cell_type": "code",
   "execution_count": 7,
   "metadata": {},
   "outputs": [
    {
     "name": "stdout",
     "output_type": "stream",
     "text": [
      "\n",
      "ans =\n",
      "\n",
      "   NaN     0     0     1     0     0     0     0     0     0\n",
      "     0   NaN     0     0     0     0     1     0     0     0\n",
      "     0     1   NaN     0     0     0     0     0     0     0\n",
      "     0     0     1   NaN     0     0     0     0     0     0\n",
      "     0     0     0     0   NaN     1     0     0     0     0\n",
      "     0     0     0     0     0   NaN     0     1     0     0\n",
      "     0     0     0     0     1     0   NaN     0     0     0\n",
      "     0     0     0     0     0     0     0   NaN     0     1\n",
      "     1     0     0     0     0     0     0     0   NaN     0\n",
      "     0     0     0     0     0     0     0     0     1   NaN\n",
      "\n",
      "\n",
      "ans =\n",
      "\n",
      "    77\n",
      "\n",
      "\n"
     ]
    }
   ],
   "source": [
    "% 求解\n",
    "if result.problem == 0\n",
    "    value(x)\n",
    "    value(z)\n",
    "else\n",
    "    disp('求解过程中出错');\n",
    "end"
   ]
  },
  {
   "cell_type": "code",
   "execution_count": null,
   "metadata": {},
   "outputs": [],
   "source": []
  }
 ],
 "metadata": {
  "kernelspec": {
   "display_name": "Matlab",
   "language": "matlab",
   "name": "matlab"
  },
  "language_info": {
   "codemirror_mode": "octave",
   "file_extension": ".m",
   "help_links": [
    {
     "text": "MetaKernel Magics",
     "url": "https://metakernel.readthedocs.io/en/latest/source/README.html"
    }
   ],
   "mimetype": "text/x-octave",
   "name": "matlab",
   "version": "0.16.7"
  }
 },
 "nbformat": 4,
 "nbformat_minor": 4
}
