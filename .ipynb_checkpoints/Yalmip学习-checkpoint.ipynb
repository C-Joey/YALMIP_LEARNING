{
 "cells": [
  {
   "cell_type": "code",
   "execution_count": 1,
   "metadata": {},
   "outputs": [
    {
     "name": "stdout",
     "output_type": "stream",
     "text": [
      "ss\n"
     ]
    }
   ],
   "source": [
    "fprintf('ss')"
   ]
  },
  {
   "cell_type": "code",
   "execution_count": 2,
   "metadata": {},
   "outputs": [
    {
     "name": "stdout",
     "output_type": "stream",
     "text": [
      "\n",
      "a =\n",
      "\n",
      "    1.0000    1.1111    1.2222    1.3333    1.4444    1.5556    1.6667    1.7778    1.8889    2.0000\n",
      "\n",
      "\n"
     ]
    },
    {
     "data": {
      "image/png": "[encoded data removed]",
      "text/plain": [
       "<IPython.core.display.Image object>"
      ]
     },
     "metadata": {},
     "output_type": "display_data"
    }
   ],
   "source": [
    "a=linspace(1,2,10)\n",
    "plot(a,'--pr','linewidth',1.5,'MarkerEdgeColor','r','MarkerFaceColor','m','MarkerSize',10)\n",
    "legend('a','Location','best')\n",
    "title('a','FontName','Times New Roman','FontWeight','Bold','FontSize',16)\n",
    "xlabel('T','FontName','Times New Roman','FontSize',14)\n",
    "ylabel('a','FontName','Times New Roman','FontSize',14,'Rotation',0)\n",
    "axis auto equal\n",
    "set(gca,'FontName','Times New Roman','FontSize',14)"
   ]
  },
  {
   "cell_type": "code",
   "execution_count": 3,
   "metadata": {},
   "outputs": [
    {
     "name": "stdout",
     "output_type": "stream",
     "text": [
      "警告: 文件: C:\\Program Files\\IBM\\ILOG\\CPLEX_Studio_Community128\\cplex\\matlab\\x64_win64\\@Cplex\\Cplex.p 行: 965 列: 0\n",
      "在嵌套函数中定义 \"changedParam\" 会将其与父函数共享。在以后的版本中，要在父函数和嵌套函数之间共享 \"changedParam\"，请在父函数中显式定义它。\n",
      "> In cplexoptimset\n",
      "  In sdpsettings>setup_cplex_options (line 617)\n",
      "  In sdpsettings (line 145)\n",
      "\n",
      "options = \n",
      "\n",
      "  包含以下字段的 struct:\n",
      "\n",
      "                   solver: 'quadprog'\n",
      "                  verbose: 1\n",
      "                    debug: 0\n",
      "                    usex0: 0\n",
      "                  warning: 1\n",
      "             cachesolvers: 0\n",
      "             showprogress: 0\n",
      "                saveduals: 1\n",
      "         removeequalities: 0\n",
      "         savesolveroutput: 0\n",
      "          savesolverinput: 0\n",
      "          saveyalmipmodel: 0\n",
      "        convertconvexquad: 1\n",
      "    assertgpnonnegativity: 1\n",
      "             thisisnotagp: 0\n",
      "                   radius: Inf\n",
      "                    relax: 0\n",
      "                  dualize: 0\n",
      "                savedebug: 0\n",
      "                   expand: 1\n",
      "                allowmilp: 1\n",
      "           allownonconvex: 1\n",
      "                    shift: 0\n",
      "                   dimacs: 0\n",
      "            beeponproblem: [-5 -4 -3 -2 -1]\n",
      "                bisection: [1x1 struct]\n",
      "                  bilevel: [1x1 struct]\n",
      "                   bmibnb: [1x1 struct]\n",
      "                      bnb: [1x1 struct]\n",
      "                   cutsdp: [1x1 struct]\n",
      "                      kkt: [1x1 struct]\n",
      "                   moment: [1x1 struct]\n",
      "                       mp: [1x1 struct]\n",
      "                    mpcvx: [1x1 struct]\n",
      "                     plot: [1x1 struct]\n",
      "                   robust: [1x1 struct]\n",
      "                      sos: [1x1 struct]\n",
      "                  refiner: [1x1 struct]\n",
      "                    baron: []\n",
      "                 bintprog: [1x1 struct]\n",
      "                   bonmin: []\n",
      "                     cdcs: [1x1 struct]\n",
      "                      cdd: [1x1 struct]\n",
      "                      cbc: [1x1 struct]\n",
      "                      clp: [1x1 struct]\n",
      "                    cplex: [1x1 struct]\n",
      "                     csdp: [1x1 struct]\n",
      "                     dsdp: [1x1 struct]\n",
      "                     ecos: []\n",
      "                 filtersd: [1x1 struct]\n",
      "                  fmincon: [1x1 struct]\n",
      "               fminsearch: [1x1 struct]\n",
      "                    frlib: [1x1 struct]\n",
      "                     glpk: [1x1 struct]\n",
      "                   gurobi: [1x1 struct]\n",
      "                    ipopt: [1x1 struct]\n",
      "               intlinprog: [1x1 optim.options.Intlinprog]\n",
      "                   knitro: [1x1 struct]\n",
      "                  linprog: [1x1 struct]\n",
      "                   lmilab: [1x1 struct]\n",
      "                  lmirank: [1x1 struct]\n",
      "                logdetppa: [1x1 struct]\n",
      "                  lpsolve: [1x1 struct]\n",
      "                lsqnonneg: [1x1 struct]\n",
      "                   lsqlin: [1x1 struct]\n",
      "                     kypd: [1x1 struct]\n",
      "                      nag: [1x1 struct]\n",
      "                    mosek: [1x1 struct]\n",
      "                    nomad: []\n",
      "                     ooqp: []\n",
      "                   penbmi: [1x1 struct]\n",
      "                   penlab: []\n",
      "                   pensdp: [1x1 struct]\n",
      "                      pop: [1x1 struct]\n",
      "                  qpoases: []\n",
      "                     osqp: []\n",
      "                    qsopt: [1x1 struct]\n",
      "                 quadprog: [1x1 struct]\n",
      "               quadprogbb: [1x1 struct]\n",
      "                     scip: []\n",
      "                      scs: [1x1 struct]\n",
      "                     sdpa: [1x1 struct]\n",
      "                    sdplr: [1x1 struct]\n",
      "                    sdpt3: [1x1 struct]\n",
      "                   sdpnal: [1x1 struct]\n",
      "                   sedumi: [1x1 struct]\n",
      "                sparsepop: [1x1 struct]\n",
      "               sparsecolo: [1x1 struct]\n",
      "                     vsdp: [1x1 struct]\n",
      "                   xpress: []\n",
      "                  default: [1x1 struct]\n",
      "\n",
      "\n",
      "MOSEK Version 9.0.89 (Build date: 2019-5-24 09:58:22)\n",
      "Copyright (c) MOSEK ApS, Denmark. WWW: mosek.com\n",
      "Platform: Windows/64-X86\n",
      "\n",
      "Problem\n",
      "  Name                   :                 \n",
      "  Objective sense        : min             \n",
      "  Type                   : QO (quadratic optimization problem)\n",
      "  Constraints            : 32              \n",
      "  Cones                  : 0               \n",
      "  Scalar variables       : 21              \n",
      "  Matrix variables       : 0               \n",
      "  Integer variables      : 0               \n",
      "\n",
      "Optimizer started.\n",
      "Quadratic to conic reformulation started.\n",
      "Quadratic to conic reformulation terminated. Time: 0.00    \n",
      "Optimizer terminated. Time: 0.01    \n",
      "\n",
      "\n",
      "Interior-point solution summary\n",
      "  Problem status  : PRIMAL_AND_DUAL_FEASIBLE\n",
      "  Solution status : OPTIMAL\n",
      "  Primal.  obj: 3.3333333333e+00    nrm: 2e+00    Viol.  con: 4e-12    var: 0e+00  \n",
      "  Dual.    obj: 3.3333333333e+00    nrm: 8e+00    Viol.  con: 7e-13    var: 4e-13  \n",
      "Optimizer summary\n",
      "  Optimizer                 -                        time: 0.01    \n",
      "    Interior-point          - iterations : 8         time: 0.00    \n",
      "      Basis identification  -                        time: 0.00    \n",
      "        Primal              - iterations : 0         time: 0.00    \n",
      "        Dual                - iterations : 0         time: 0.00    \n",
      "        Clean primal        - iterations : 0         time: 0.00    \n",
      "        Clean dual          - iterations : 0         time: 0.00    \n",
      "    Simplex                 -                        time: 0.00    \n",
      "      Primal simplex        - iterations : 0         time: 0.00    \n",
      "      Dual simplex          - iterations : 0         time: 0.00    \n",
      "    Mixed integer           - relaxations: 0         time: 0.00    \n",
      "\n",
      "Optimization terminated successfully.\n",
      "\n"
     ]
    }
   ],
   "source": [
    "%定义变量\n",
    "x = sdpvar(10, 1);\n",
    "\n",
    "% 定义约束\n",
    "Constraints = [sum(x) <= 10, x(1)==0, 0.5 <= x(2) <= 1.5];\t\n",
    "for i = 1:7\n",
    "\tConstraints = [Constraints, x(i) + x(i+1)  <= x(i+2) + x(i+3)];\n",
    "end\n",
    "\n",
    "%定义目标函数\n",
    "Objective = x' * x + norm(x,1);\n",
    "\n",
    "\n",
    "%为YALMIP以及求解器设置一些选项\n",
    "options = sdpsettings('verbose', 1, 'solver', 'quadprog', 'quadprog.maxiter', 100)\n",
    "\n",
    "%求解问题\n",
    "sol = optimize(Constraints, Objective, options);\n",
    "\n",
    "\n",
    "%分析错误标志\n",
    "if sol.problem == 0\n",
    "\t% 说明计算成功,此时展示得到的结果\n",
    "\tsolution = value(x);\n",
    "else\n",
    "\tdisp('错了亲');\n",
    "\tsol.info\n",
    "\tyalmiperror(sol.problem)\n",
    "end"
   ]
  },
  {
   "cell_type": "code",
   "execution_count": 5,
   "metadata": {},
   "outputs": [
    {
     "name": "stderr",
     "output_type": "stream",
     "text": [
      "\u001b[1;31m未定义函数或变量 'ops'。\n",
      "\n",
      "\u001b[0m"
     ]
    }
   ],
   "source": [
    "x = sdpvar(1,2);\n",
    "\n",
    "C = [\n",
    "    x(1)+x(2) >=2\n",
    "    x(2)-x(1) <=1\n",
    "    x(1) <=1\n",
    "    ];\n",
    "\n",
    "\n",
    "\n",
    "z = -(x(1)+2*x(2))/(2*x(1)+x(2));\n",
    "\n",
    "result = optimize(C,z);"
   ]
  }
 ],
 "metadata": {
  "kernelspec": {
   "display_name": "Matlab",
   "language": "matlab",
   "name": "matlab"
  },
  "language_info": {
   "codemirror_mode": "octave",
   "file_extension": ".m",
   "help_links": [
    {
     "text": "MetaKernel Magics",
     "url": "https://metakernel.readthedocs.io/en/latest/source/README.html"
    }
   ],
   "mimetype": "text/x-octave",
   "name": "matlab",
   "version": "0.16.7"
  }
 },
 "nbformat": 4,
 "nbformat_minor": 4
}
