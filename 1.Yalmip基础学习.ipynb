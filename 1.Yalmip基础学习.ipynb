{
 "cells": [
  {
   "cell_type": "markdown",
   "metadata": {},
   "source": [
    "[Yalmip使用学习](https://www.ravenxrz.ink/archives/yalmip-usage-learning.html)"
   ]
  },
  {
   "cell_type": "markdown",
   "metadata": {},
   "source": [
    "\\begin{aligned} z=& \\max \\left(\\frac{x_{1}+2 x_{2}}{2 x_{1}+x_{2}}\\right) \\\\ \n",
    "&\\left\\{\\begin{array}{c}{x_{1}+x_{2} \\geq 2} \\\\ \n",
    "{x_{2}-x_{1}} \\leq 1 \\\\ \n",
    "{x_{1} \\leq 1}\n",
    "\\end{array}\\right.\n",
    "\\end{aligned}"
   ]
  },
  {
   "cell_type": "code",
   "execution_count": 1,
   "metadata": {},
   "outputs": [
    {
     "name": "stdout",
     "output_type": "stream",
     "text": [
      "\n"
     ]
    }
   ],
   "source": [
    "% 创建决策变量\n",
    "x = sdpvar(1,2);"
   ]
  },
  {
   "cell_type": "code",
   "execution_count": 2,
   "metadata": {},
   "outputs": [
    {
     "name": "stdout",
     "output_type": "stream",
     "text": [
      "\n"
     ]
    }
   ],
   "source": [
    "% 添加约束条件\n",
    "C = [\n",
    "    x(1)+x(2) >=2\n",
    "    x(2)-x(1) <=1\n",
    "    x(1) <=1\n",
    "    ];\n"
   ]
  },
  {
   "cell_type": "code",
   "execution_count": 3,
   "metadata": {},
   "outputs": [
    {
     "name": "stdout",
     "output_type": "stream",
     "text": [
      "\n"
     ]
    }
   ],
   "source": [
    "% 目标函数   默认是 min --  max（Z）= -min（-Z） \n",
    "z = -(x(1)+2*x(2))/(2*x(1)+x(2));"
   ]
  },
  {
   "cell_type": "code",
   "execution_count": 4,
   "metadata": {},
   "outputs": [
    {
     "name": "stdout",
     "output_type": "stream",
     "text": [
      "警告: 文件: C:\\Program Files\\IBM\\ILOG\\CPLEX_Studio_Community128\\cplex\\matlab\\x64_win64\\@Cplex\\Cplex.p 行: 965 列: 0\n",
      "在嵌套函数中定义 \"changedParam\" 会将其与父函数共享。在以后的版本中，要在父函数和嵌套函数之间共享 \"changedParam\"，请在父函数中显式定义它。\n",
      "> In cplexoptimset\n",
      "  In sdpsettings>setup_cplex_options (line 617)\n",
      "  In sdpsettings (line 145)\n",
      "  In solvesdp (line 131)\n",
      "  In optimize (line 31)\n",
      "                                            First-order      Norm of\n",
      " Iter F-count            f(x)  Feasibility   optimality         step\n",
      "    0       1    0.000000e+00    2.000e+00    1.845e+00\n",
      "    1       2   -1.361410e+00    5.242e-01    7.089e-01    1.602e+00\n",
      "    2       3   -1.308814e+00    4.441e-16    7.788e-01    8.140e-01\n",
      "    3       4   -1.299288e+00    0.000e+00    9.851e-02    8.490e-02\n",
      "    4       5   -1.333584e+00    4.441e-16    1.095e-01    7.327e-02\n",
      "    5       6   -1.364417e+00    4.441e-16    2.942e-02    7.491e-02\n",
      "    6       7   -1.360272e+00    0.000e+00    2.021e-02    8.267e-03\n",
      "    7       8   -1.379966e+00    4.441e-16    2.129e-02    5.706e-02\n",
      "    8       9   -1.387834e+00    4.441e-16    3.065e-02    5.399e-02\n",
      "    9      11   -1.391538e+00    4.441e-16    3.738e-02    2.721e-02\n",
      "   10      12   -1.392332e+00    0.000e+00    4.000e-03    6.714e-03\n",
      "   11      13   -1.398128e+00    4.441e-16    7.445e-03    2.336e-02\n",
      "   12      14   -1.398413e+00    0.000e+00    3.518e-03    6.077e-04\n",
      "   13      15   -1.398400e+00    0.000e+00    8.000e-04    2.893e-05\n",
      "   14      16   -1.399667e+00    0.000e+00    1.513e-03    5.037e-03\n",
      "   15      17   -1.399680e+00    0.000e+00    2.062e-04    1.052e-04\n",
      "   16      18   -1.399680e+00    4.441e-16    1.600e-04    1.719e-06\n",
      "   17      19   -1.399935e+00    0.000e+00    3.110e-04    1.024e-03\n",
      "   18      20   -1.399936e+00    0.000e+00    3.200e-05    9.170e-07\n",
      "   19      21   -1.399999e+00    0.000e+00    7.509e-05    2.535e-04\n",
      "   20      22   -1.399999e+00    4.441e-16    3.200e-07    3.477e-08\n",
      "\n",
      "Local minimum found that satisfies the constraints.\n",
      "\n",
      "Optimization completed because the objective function is non-decreasing in \n",
      "feasible directions, to within the value of the optimality tolerance,\n",
      "and constraints are satisfied to within the value of the constraint tolerance.\n",
      "\n",
      "\n"
     ]
    }
   ],
   "source": [
    "result = optimize(C,z);"
   ]
  },
  {
   "cell_type": "code",
   "execution_count": 5,
   "metadata": {},
   "outputs": [
    {
     "name": "stdout",
     "output_type": "stream",
     "text": [
      "\n",
      "ans =\n",
      "\n",
      "    0.5000    1.5000\n",
      "\n",
      "\n",
      "ans =\n",
      "\n",
      "    1.4000\n",
      "\n",
      "\n"
     ]
    }
   ],
   "source": [
    "if result.problem == 0 % problem =0 代表求解成功\n",
    "    value(x)\n",
    "    -value(z)   % 反转\n",
    "else\n",
    "    disp('求解出错');\n",
    "end"
   ]
  }
 ],
 "metadata": {
  "kernelspec": {
   "display_name": "Matlab",
   "language": "matlab",
   "name": "matlab"
  },
  "language_info": {
   "codemirror_mode": "octave",
   "file_extension": ".m",
   "help_links": [
    {
     "text": "MetaKernel Magics",
     "url": "https://metakernel.readthedocs.io/en/latest/source/README.html"
    }
   ],
   "mimetype": "text/x-octave",
   "name": "matlab",
   "version": "0.16.7"
  }
 },
 "nbformat": 4,
 "nbformat_minor": 4
}
