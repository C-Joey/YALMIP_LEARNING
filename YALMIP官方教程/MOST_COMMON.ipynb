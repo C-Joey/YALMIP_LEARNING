{
 "cells": [
  {
   "cell_type": "markdown",
   "metadata": {
    "slideshow": {
     "slide_type": "slide"
    },
    "toc-hr-collapsed": true
   },
   "source": [
    "# 决策变量\n",
    "1. ***sdpvar***\n",
    "    定义决策变量\n",
    " * 对称阵\n",
    " * 完全元素矩阵\n",
    "2. ***binary***\n",
    "    binvar is used to define decision variables constrained to be binary (0 or 1).\n",
    "3. ***intvar***\n",
    "    intvar used to define decision variables with integer elements.\n",
    " "
   ]
  },
  {
   "cell_type": "markdown",
   "metadata": {
    "slideshow": {
     "slide_type": "slide"
    },
    "toc-hr-collapsed": true
   },
   "source": [
    "# optimize\n",
    "***option*** 一般不用多做设置\n",
    "* diagnostics = optimize(Constraints,Objective,options)\n",
    "\n",
    "* 这三种表示方式都是一样的\n",
    "> 1. x = sdpvar(1,1); y = sdpvar(1,1);\n",
    "> 2. x1 = sdpvar(1);   y1 = sdpvar(1);\n",
    "> 3. sdpvar x2 y2 "
   ]
  },
  {
   "cell_type": "code",
   "execution_count": 1,
   "metadata": {},
   "outputs": [
    {
     "name": "stdout",
     "output_type": "stream",
     "text": [
      "Linear matrix variable 10x10 (symmetric, real, 55 variables)\n",
      "Coeffiecient range: 1 to 1\n",
      "\n"
     ]
    }
   ],
   "source": [
    "#对称阵\n",
    "a=sdpvar(10,10,'symmetric')"
   ]
  },
  {
   "cell_type": "code",
   "execution_count": 15,
   "metadata": {},
   "outputs": [
    {
     "name": "stdout",
     "output_type": "stream",
     "text": [
      "Linear matrix variable 10x10 (full, real, 100 variables)\n",
      "Coeffiecient range: 1 to 1\n",
      "\n"
     ]
    }
   ],
   "source": [
    "% 满元素\n",
    "b=sdpvar(10,10,'full')"
   ]
  },
  {
   "cell_type": "code",
   "execution_count": 11,
   "metadata": {},
   "outputs": [
    {
     "name": "stdout",
     "output_type": "stream",
     "text": [
      "Linear matrix variable 10x10 (full, complex, 200 variables)\n",
      "Coeffiecient range: 1 to 1\n",
      "\n"
     ]
    }
   ],
   "source": [
    "c=sdpvar(10,10,'full','complex')"
   ]
  },
  {
   "cell_type": "code",
   "execution_count": 18,
   "metadata": {},
   "outputs": [
    {
     "name": "stdout",
     "output_type": "stream",
     "text": [
      "\n"
     ]
    }
   ],
   "source": [
    "% 循环产生100个5*5的cell\n",
    "for i = 1:100;\n",
    "    Y{i} = sdpvar(5,5);\n",
    "        end"
   ]
  },
  {
   "cell_type": "code",
   "execution_count": 21,
   "metadata": {},
   "outputs": [
    {
     "name": "stdout",
     "output_type": "stream",
     "text": [
      "Multi-dimensional SDPVAR object 3x3x3x3\n",
      "Linear matrix variable 3x3 (full, real, 9 variables)\n",
      "Coeffiecient range: 1 to 1\n",
      "\n"
     ]
    }
   ],
   "source": [
    "% 四位变量\n",
    "X = sdpvar(3,3,3,3,'full')\n",
    "X(:,:,1,1)"
   ]
  },
  {
   "cell_type": "code",
   "execution_count": null,
   "metadata": {},
   "outputs": [],
   "source": []
  }
 ],
 "metadata": {
  "kernelspec": {
   "display_name": "Matlab",
   "language": "matlab",
   "name": "matlab"
  },
  "language_info": {
   "codemirror_mode": "octave",
   "file_extension": ".m",
   "help_links": [
    {
     "text": "MetaKernel Magics",
     "url": "https://metakernel.readthedocs.io/en/latest/source/README.html"
    }
   ],
   "mimetype": "text/x-octave",
   "name": "matlab",
   "version": "0.16.7"
  },
  "toc-autonumbering": false,
  "toc-showmarkdowntxt": false
 },
 "nbformat": 4,
 "nbformat_minor": 4
}
