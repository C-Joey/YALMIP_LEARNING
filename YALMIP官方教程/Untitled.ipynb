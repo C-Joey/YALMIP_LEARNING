{
 "cells": [
  {
   "cell_type": "code",
   "execution_count": 1,
   "metadata": {},
   "outputs": [
    {
     "name": "stdout",
     "output_type": "stream",
     "text": [
      "\n"
     ]
    }
   ],
   "source": [
    "% Define variables\n",
    "x = sdpvar(10,1);"
   ]
  },
  {
   "cell_type": "code",
   "execution_count": 2,
   "metadata": {},
   "outputs": [
    {
     "name": "stdout",
     "output_type": "stream",
     "text": [
      "\n"
     ]
    }
   ],
   "source": [
    "% Define constraints \n",
    "Constraints = [sum(x) <= 10, x(1) == 0, 0.5 <= x(2) <= 1.5];\n",
    "for i = 1 : 7\n",
    "  Constraints = [Constraints, x(i) + x(i+1) <= x(i+2) + x(i+3)];\n",
    "end"
   ]
  },
  {
   "cell_type": "code",
   "execution_count": 3,
   "metadata": {},
   "outputs": [
    {
     "name": "stdout",
     "output_type": "stream",
     "text": [
      "\n"
     ]
    }
   ],
   "source": [
    "% Define an objective\n",
    "Objective = x'*x+norm(x,1);"
   ]
  },
  {
   "cell_type": "code",
   "execution_count": 4,
   "metadata": {},
   "outputs": [
    {
     "name": "stdout",
     "output_type": "stream",
     "text": [
      "\n"
     ]
    }
   ],
   "source": [
    "% Set some options for YALMIP and solver\n",
    "% options = sdpsettings('verbose',1,'solver','quadprog','quadprog.maxiter',100);"
   ]
  },
  {
   "cell_type": "code",
   "execution_count": 5,
   "metadata": {},
   "outputs": [
    {
     "name": "stdout",
     "output_type": "stream",
     "text": [
      "警告: 文件: C:\\Program Files\\IBM\\ILOG\\CPLEX_Studio_Community128\\cplex\\matlab\\x64_win64\\@Cplex\\Cplex.p 行: 965 列: 0\n",
      "在嵌套函数中定义 \"changedParam\" 会将其与父函数共享。在以后的版本中，要在父函数和嵌套函数之间共享 \"changedParam\"，请在父函数中显式定义它。\n",
      "> In cplexoptimset\n",
      "  In sdpsettings>setup_cplex_options (line 617)\n",
      "  In sdpsettings (line 145)\n",
      "  In solvesdp (line 131)\n",
      "  In optimize (line 31)\n",
      "Optimize a model with 32 rows, 21 columns and 92 nonzeros\n",
      "Model has 10 quadratic objective terms\n",
      "Coefficient statistics:\n",
      "  Matrix range     [1e+00, 1e+00]\n",
      "  Objective range  [1e+00, 1e+00]\n",
      "  QObjective range [2e+00, 2e+00]\n",
      "  Bounds range     [0e+00, 0e+00]\n",
      "  RHS range        [5e-01, 1e+01]\n",
      "Presolve removed 16 rows and 5 columns\n",
      "Presolve time: 0.03s\n",
      "Presolved: 16 rows, 16 columns, 49 nonzeros\n",
      "Presolved model has 8 quadratic objective terms\n",
      "Ordering time: 0.00s\n",
      "\n",
      "Barrier statistics:\n",
      " Free vars  : 8\n",
      " AA' NZ     : 5.500e+01\n",
      " Factor NZ  : 1.360e+02\n",
      " Factor Ops : 1.496e+03 (less than 1 second per iteration)\n",
      " Threads    : 1\n",
      "\n",
      "                  Objective                Residual\n",
      "Iter       Primal          Dual         Primal    Dual     Compl     Time\n",
      "   0   8.00075000e+03  7.49999999e-01  1.00e+00 5.00e-01  1.00e+06     0s\n",
      "   1   1.45735160e+05 -1.44280002e+05  1.38e+02 9.27e+01  1.54e+05     0s\n",
      "   2   5.31337943e+04 -5.22500082e+04  3.25e+00 3.32e+00  7.83e+03     0s\n",
      "   3   1.31069659e+04 -1.03577063e+04  0.00e+00 1.78e-09  9.78e+02     0s\n",
      "   4   1.21880600e+03 -1.17414049e+03  0.00e+00 5.81e-11  9.97e+01     0s\n",
      "   5   4.78953496e+02 -3.07689602e+02  0.00e+00 1.51e-14  3.28e+01     0s\n",
      "   6   3.82139436e+01 -1.89732577e+01  0.00e+00 8.44e-15  2.38e+00     0s\n",
      "   7   1.67828858e+01 -2.60681220e+00  0.00e+00 7.77e-16  8.08e-01     0s\n",
      "   8   4.45901567e+00  2.47098963e+00  0.00e+00 4.44e-16  8.28e-02     0s\n",
      "   9   3.64467687e+00  3.21224569e+00  0.00e+00 4.58e-16  1.80e-02     0s\n",
      "  10   3.37829219e+00  3.31133007e+00  0.00e+00 4.72e-16  2.79e-03     0s\n",
      "  11   3.33382936e+00  3.33326160e+00  0.00e+00 6.66e-16  2.37e-05     0s\n",
      "  12   3.33333383e+00  3.33333326e+00  0.00e+00 6.66e-16  2.37e-08     0s\n",
      "  13   3.33333333e+00  3.33333333e+00  0.00e+00 6.66e-16  2.37e-11     0s\n",
      "\n",
      "Barrier solved model in 13 iterations and 0.06 seconds\n",
      "Optimal objective 3.33333333e+00\n",
      "\n",
      "\n"
     ]
    }
   ],
   "source": [
    "% Solve the problem\n",
    "sol = optimize(Constraints,Objective);"
   ]
  },
  {
   "cell_type": "code",
   "execution_count": 6,
   "metadata": {},
   "outputs": [
    {
     "name": "stdout",
     "output_type": "stream",
     "text": [
      "\n",
      "solution =\n",
      "\n",
      "         0\n",
      "    0.5000\n",
      "    0.0833\n",
      "    0.4167\n",
      "    0.1667\n",
      "    0.3333\n",
      "    0.2500\n",
      "    0.2500\n",
      "    0.3333\n",
      "    0.1667\n",
      "\n",
      "\n"
     ]
    }
   ],
   "source": [
    "\n",
    "% Analyze error flags\n",
    "if sol.problem == 0\n",
    " % Extract and display value\n",
    " solution = value(x)\n",
    "else\n",
    " display('Hmm, something went wrong!');\n",
    " sol.info\n",
    " yalmiperror(sol.problem)\n",
    "end"
   ]
  },
  {
   "cell_type": "code",
   "execution_count": null,
   "metadata": {},
   "outputs": [],
   "source": []
  }
 ],
 "metadata": {
  "kernelspec": {
   "display_name": "Matlab",
   "language": "matlab",
   "name": "matlab"
  },
  "language_info": {
   "codemirror_mode": "octave",
   "file_extension": ".m",
   "help_links": [
    {
     "text": "MetaKernel Magics",
     "url": "https://metakernel.readthedocs.io/en/latest/source/README.html"
    }
   ],
   "mimetype": "text/x-octave",
   "name": "matlab",
   "version": "0.16.7"
  }
 },
 "nbformat": 4,
 "nbformat_minor": 4
}
