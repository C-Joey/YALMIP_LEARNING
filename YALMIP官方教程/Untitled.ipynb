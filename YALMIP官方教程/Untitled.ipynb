{
 "cells": [
  {
   "cell_type": "code",
   "execution_count": 10,
   "metadata": {},
   "outputs": [
    {
     "name": "stdout",
     "output_type": "stream",
     "text": [
      "* Starting YALMIP integer branch & bound.\n",
      "* Lower solver   : fmincon-standard\n",
      "* Upper solver   : rounder\n",
      "* Max time       : 3600\n",
      "* Max iterations : Inf\n",
      " \n",
      "Warning : The continuous relaxation may be nonconvex. This means \n",
      "that the branching process is not guaranteed to find a\n",
      "globally optimal solution, since the lower bound can be\n",
      "invalid. Hence, do not trust the bound or the gap...\n",
      " Node       Upper       Gap(%)     Lower     Open   Elapsed time\n",
      "    1 :    7.100E+01    18.09      4.925E+01   1       0.0    -> Found improved solution! \n",
      "    2 :    7.100E+01    18.09      4.925E+01   2       0.1    Successfully solved  \n",
      "    3 :    7.100E+01    14.47      5.305E+01   3       0.1    Successfully solved  \n",
      "    4 :    7.100E+01    14.47      5.305E+01   4       0.1    Successfully solved  \n",
      "    5 :    7.100E+01    12.17      5.560E+01   5       0.1    Successfully solved  \n",
      "    6 :    7.100E+01    12.17      5.560E+01   6       0.2    Successfully solved  \n",
      "    7 :    7.100E+01    11.47      5.639E+01   7       0.2    Successfully solved  \n",
      "    8 :    7.100E+01    11.47      5.639E+01   8       0.2    Successfully solved  \n",
      "    9 :    7.100E+01    10.34      5.769E+01   9       0.2    Successfully solved  \n",
      "   10 :    7.100E+01    10.34      5.769E+01   8       0.3    Successfully solved  \n",
      "   11 :    7.100E+01    10.20      5.786E+01   7       0.3    Successfully solved  \n",
      "   12 :    7.100E+01    10.20      5.786E+01   8       0.3    Successfully solved  \n",
      "   13 :    7.100E+01    10.03      5.806E+01   9       0.3    Successfully solved  \n",
      "   14 :    7.100E+01    10.03      5.806E+01   8       0.4    Successfully solved  \n",
      "   15 :    7.100E+01     9.79      5.833E+01   9       0.4    Successfully solved  \n",
      "   16 :    7.100E+01     9.79      5.833E+01   8       0.4    Successfully solved  \n",
      "   17 :    7.100E+01     8.97      5.931E+01   7       0.4    Infeasible problem  \n",
      "   18 :    7.100E+01     8.97      5.931E+01   6       0.5    Successfully solved  \n",
      "   19 :    7.100E+01     7.07      6.162E+01   7       0.5    Successfully solved  \n",
      "   20 :    7.100E+01     7.07      6.162E+01   6       0.5    Successfully solved  \n",
      "   21 :    7.100E+01     3.95      6.561E+01   7       0.5    Successfully solved  \n",
      "   22 :    7.100E+01     3.95      6.561E+01   6       0.6    Successfully solved  \n",
      "   23 :    7.100E+01     2.89      6.701E+01   7       0.6    Successfully solved  \n",
      "   24 :    7.100E+01     2.89      6.701E+01   6       0.6    Successfully solved  \n",
      "   25 :    7.100E+01     2.47      6.757E+01   7       0.7    Successfully solved  \n",
      "   26 :    7.100E+01     2.47      6.757E+01   6       0.7    Successfully solved  \n",
      "   27 :    7.100E+01     2.02      6.819E+01   5       0.7    Successfully solved  \n",
      "   28 :    7.100E+01     2.02      6.819E+01   4       0.7    Successfully solved  \n",
      "   29 :    7.100E+01     1.70      6.863E+01   5       0.7    Successfully solved  \n",
      "   30 :    7.100E+01     1.70      6.863E+01   4       0.8    Successfully solved  \n",
      "   31 :    7.100E+01     1.45      6.898E+01   5       0.8    Successfully solved  \n",
      "   32 :    7.100E+01     1.45      6.898E+01   4       0.8    Successfully solved  \n",
      "   33 :    7.100E+01     1.35      6.911E+01   3       0.8    Successfully solved  \n",
      "   34 :    7.100E+01     1.35      6.911E+01   2       0.9    Successfully solved  \n",
      "   35 :    7.100E+01     1.09      6.947E+01   1       0.9    Infeasible problem  \n",
      "   36 :    7.100E+01     1.09      6.947E+01   0       0.9    Successfully solved  \n",
      "   37 :    7.100E+01     0.00      6.947E+01   0       1.0    Successfully solved  \n",
      "+  37 Finishing.  Cost: 71\n",
      "Polynomial scalar (real, 5 variables)\n",
      "Current value: 71\n",
      "Coeffiecient range: 1 to 405\n",
      "\n"
     ]
    }
   ],
   "source": [
    "x = sdpvar(5,1);\n",
    "A = randn(15,5);\n",
    "b = rand(15,1)*10;\n",
    "\n",
    "obj = sum(x) + sum((x-3).^4); % 4th order objective\n",
    "optimize([A*x <= b, integer(x)],obj);\n",
    "obj"
   ]
  },
  {
   "cell_type": "code",
   "execution_count": null,
   "metadata": {},
   "outputs": [],
   "source": []
  }
 ],
 "metadata": {
  "kernelspec": {
   "display_name": "Matlab",
   "language": "matlab",
   "name": "matlab"
  },
  "language_info": {
   "codemirror_mode": "octave",
   "file_extension": ".m",
   "help_links": [
    {
     "text": "MetaKernel Magics",
     "url": "https://metakernel.readthedocs.io/en/latest/source/README.html"
    }
   ],
   "mimetype": "text/x-octave",
   "name": "matlab",
   "version": "0.16.7"
  }
 },
 "nbformat": 4,
 "nbformat_minor": 2
}
