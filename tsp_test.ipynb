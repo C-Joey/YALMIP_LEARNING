{
 "cells": [
  {
   "cell_type": "code",
   "execution_count": 2,
   "metadata": {},
   "outputs": [
    {
     "name": "stdout",
     "output_type": "stream",
     "text": [
      "\n"
     ]
    }
   ],
   "source": [
    "% 利用yamlip求解TSP问题\n",
    "clear;clc;close all;\n",
    "d = load('tsp_jin.txt')';\n",
    "n = size(d,1);"
   ]
  },
  {
   "cell_type": "code",
   "execution_count": 3,
   "metadata": {},
   "outputs": [
    {
     "name": "stdout",
     "output_type": "stream",
     "text": [
      "\n"
     ]
    }
   ],
   "source": [
    "% 决策变量\n",
    "x = binvar(n,n,'full');\n",
    "u = sdpvar(1,n);"
   ]
  },
  {
   "cell_type": "code",
   "execution_count": 4,
   "metadata": {},
   "outputs": [
    {
     "name": "stdout",
     "output_type": "stream",
     "text": [
      "\n"
     ]
    }
   ],
   "source": [
    "% 目标\n",
    "z = sum(sum(d.*x));"
   ]
  },
  {
   "cell_type": "code",
   "execution_count": 5,
   "metadata": {},
   "outputs": [
    {
     "name": "stdout",
     "output_type": "stream",
     "text": [
      "\n"
     ]
    }
   ],
   "source": [
    "% 约束添加\n",
    "C = [];\n",
    "for j = 1:n\n",
    "    s = sum(x(:,j))-x(j,j);\n",
    "    C = [C,   s  == 1];\n",
    "end\n",
    "for i = 1:n\n",
    "    s = sum(x(i,:)) - x(i,i);\n",
    "    C = [C, s  == 1];\n",
    "end\n",
    "for i = 2:n\n",
    "    for j = 2:n\n",
    "        if i~=j\n",
    "            C = [C,u(i)-u(j) + n*x(i,j)<=n-1];\n",
    "        end\n",
    "    end\n",
    "end"
   ]
  },
  {
   "cell_type": "code",
   "execution_count": 8,
   "metadata": {},
   "outputs": [
    {
     "name": "stdout",
     "output_type": "stream",
     "text": [
      "Optimize a model with 92 rows, 99 columns and 396 nonzeros\n",
      "Variable types: 9 continuous, 90 integer (90 binary)\n",
      "Coefficient statistics:\n",
      "  Matrix range     [1e+00, 1e+01]\n",
      "  Objective range  [3e+00, 2e+01]\n",
      "  Bounds range     [1e+00, 1e+00]\n",
      "  RHS range        [1e+00, 9e+00]\n",
      "Found heuristic solution: objective 115.0000000\n",
      "Presolve removed 0 rows and 1 columns\n",
      "Presolve time: 0.00s\n",
      "Presolved: 92 rows, 98 columns, 548 nonzeros\n",
      "Variable types: 8 continuous, 90 integer (90 binary)\n",
      "\n",
      "Root relaxation: objective 6.730000e+01, 38 iterations, 0.00 seconds\n",
      "\n",
      "    Nodes    |    Current Node    |     Objective Bounds      |     Work\n",
      " Expl Unexpl |  Obj  Depth IntInf | Incumbent    BestBd   Gap | It/Node Time\n",
      "\n",
      "     0     0   67.30000    0   17  115.00000   67.30000  41.5%     -    0s\n",
      "H    0     0                     109.0000000   67.30000  38.3%     -    0s\n",
      "H    0     0                      88.0000000   67.30000  23.5%     -    0s\n",
      "H    0     0                      86.0000000   67.30000  21.7%     -    0s\n",
      "     0     0   72.50000    0   19   86.00000   72.50000  15.7%     -    0s\n",
      "H    0     0                      73.0000000   72.50000  0.68%     -    0s\n",
      "\n",
      "Cutting planes:\n",
      "  Learned: 2\n",
      "  MIR: 2\n",
      "\n",
      "Explored 1 nodes (53 simplex iterations) in 0.04 seconds\n",
      "Thread count was 8 (of 8 available processors)\n",
      "\n",
      "Solution count 5: 73 86 88 ... 115\n",
      "\n",
      "Optimal solution found (tolerance 1.00e-04)\n",
      "Best objective 7.300000000000e+01, best bound 7.300000000000e+01, gap 0.0000%\n",
      "\n",
      "ans =\n",
      "\n",
      "   NaN     0     1     0     0     0     0     0     0     0\n",
      "     1   NaN     0     0     0     0     0     0     0     0\n",
      "     0     0   NaN     1     0     0     0     0     0     0\n",
      "     0     0     0   NaN     1     0     0     0     0     0\n",
      "     0     0     0     0   NaN     0     0     1     0     0\n",
      "     0     1     0     0     0   NaN     0     0     0     0\n",
      "     0     0     0     0     0     1   NaN     0     0     0\n",
      "     0     0     0     0     0     0     0   NaN     0     1\n",
      "     0     0     0     0     0     0     1     0   NaN     0\n",
      "     0     0     0     0     0     0     0     0     1   NaN\n",
      "\n",
      "\n",
      "ans =\n",
      "\n",
      "    73\n",
      "\n",
      "\n"
     ]
    }
   ],
   "source": [
    "% 求解\n",
    "result= optimize(C,z);\n",
    "if result.problem == 0\n",
    "    value(x)\n",
    "    value(z)\n",
    "else\n",
    "    disp('求解过程中出错');\n",
    "end\n"
   ]
  },
  {
   "cell_type": "code",
   "execution_count": null,
   "metadata": {},
   "outputs": [],
   "source": []
  }
 ],
 "metadata": {
  "kernelspec": {
   "display_name": "Matlab",
   "language": "matlab",
   "name": "matlab"
  },
  "language_info": {
   "codemirror_mode": "octave",
   "file_extension": ".m",
   "help_links": [
    {
     "text": "MetaKernel Magics",
     "url": "https://metakernel.readthedocs.io/en/latest/source/README.html"
    }
   ],
   "mimetype": "text/x-octave",
   "name": "matlab",
   "version": "0.16.7"
  }
 },
 "nbformat": 4,
 "nbformat_minor": 4
}
