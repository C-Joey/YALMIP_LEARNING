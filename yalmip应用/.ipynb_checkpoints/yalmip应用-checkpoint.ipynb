{
 "cells": [
  {
   "cell_type": "markdown",
   "metadata": {
    "toc-hr-collapsed": false
   },
   "source": [
    "# YALMIP应用篇\n",
    "yalmip是一个在matlab内的建模工具包，能够用一套统一的建模语言来构建约束，调用其他的求解器，减少了单独学习其他语言的浪费\n",
    "接下来我会从1.一般线性规划 2.运输问题 3.背包问题 4.指派问题 5.最短路问题 6.最大流问题 来进行笔记编写~~~~"
   ]
  },
  {
   "cell_type": "markdown",
   "metadata": {},
   "source": [
    "## yalmip基本格式\n",
    "\n",
    "1. 创建决策变量\n",
    "2. 目标函数 `z`\n",
    "3. 约束条件设置 `C`\n",
    "4. 参数设置 \n",
    "`ops = sdpsetting('solver','Cplex','verbose',2);  verbose:显示冗余度`\n",
    "5. 求解\n",
    "`result = solvesdp(C,z,ops)`"
   ]
  },
  {
   "cell_type": "markdown",
   "metadata": {},
   "source": [
    "# 一般线性规划"
   ]
  },
  {
   "cell_type": "markdown",
   "metadata": {},
   "source": [
    "## model\n",
    "$$\n",
    "\\begin{array}{l}{\\min Z=C X} \\\\ {\\text { s.t. }\\left\\{\\begin{array}{l}{A X=b} \\\\ {X \\geqslant 0}\\end{array}\\right.}\\end{array}\n",
    "$$"
   ]
  },
  {
   "cell_type": "markdown",
   "metadata": {},
   "source": [
    "## 例子\n",
    "$$\n",
    "\\min Z=12 x_{1}+5 x_{2}+8 x_{3}\\\\\n",
    "\\text { s.t. }\\left\\{\\begin{array}{l}{2 x_{1}+3 x_{2}+x_{3} \\geqslant 30} \\\\ {4 x_{1}+x_{2}+5 x_{3} \\geqslant 15} \\\\ {x_{1}, x_{2}, x_{3} \\geqslant 0}\\end{array}\\right.\n",
    "$$"
   ]
  },
  {
   "cell_type": "code",
   "execution_count": 1,
   "metadata": {},
   "outputs": [
    {
     "name": "stdout",
     "output_type": "stream",
     "text": [
      "警告: 文件: C:\\Program Files\\IBM\\ILOG\\CPLEX_Studio_Community128\\cplex\\matlab\\x64_win64\\@Cplex\\Cplex.p 行: 965 列: 0\n",
      "在嵌套函数中定义 \"changedParam\" 会将其与父函数共享。在以后的版本中，要在父函数和嵌套函数之间共享 \"changedParam\"，请在父函数中显式定义它。\n",
      "> In cplexoptimset\n",
      "  In sdpsettings>setup_cplex_options (line 617)\n",
      "  In sdpsettings (line 145)\n",
      "  In solvesdp (line 131)\n",
      "  In optimize (line 31)\n",
      "Optimize a model with 5 rows, 3 columns and 9 nonzeros\n",
      "Coefficient statistics:\n",
      "  Matrix range     [1e+00, 5e+00]\n",
      "  Objective range  [5e+00, 1e+01]\n",
      "  Bounds range     [0e+00, 0e+00]\n",
      "  RHS range        [2e+01, 3e+01]\n",
      "Presolve removed 3 rows and 1 columns\n",
      "Presolve time: 0.02s\n",
      "Presolved: 2 rows, 2 columns, 4 nonzeros\n",
      "\n",
      "Iteration    Objective       Primal Inf.    Dual Inf.      Time\n",
      "       0    0.0000000e+00   9.375000e+00   0.000000e+00      0s\n",
      "       2    5.6785714e+01   0.000000e+00   0.000000e+00      0s\n",
      "\n",
      "Solved in 2 iterations and 0.03 seconds\n",
      "Optimal objective  5.678571429e+01\n",
      "\n",
      "x_star =\n",
      "\n",
      "         0\n",
      "    9.6429\n",
      "    1.0714\n",
      "\n",
      "\n",
      "z_star =\n",
      "\n",
      "   56.7857\n",
      "\n",
      "\n"
     ]
    }
   ],
   "source": [
    "clear;clc;close all;\n",
    "\n",
    "c = [12 5 8];\n",
    "A = [2 3 1; 4 1 5];\n",
    "b = [30; 15];\n",
    "\n",
    "%决策变量\n",
    "x = sdpvar(3,1);\n",
    "\n",
    "%目标函数\n",
    "z = c*x;\n",
    "\n",
    "%添加约束\n",
    "%C = [];\n",
    "%C = [C; A*x >= b];\n",
    "%C = [C;x>=0];\n",
    "C=[A*x >= b,x>=0];\n",
    "\n",
    "%求解\n",
    "result = optimize(C,z);\n",
    "if result.problem == 0    %求解成功\n",
    "    x_star=double(x)\n",
    "    z_star=double(z)\n",
    "    else\n",
    "    disp('求解过程中出错');\n",
    "end"
   ]
  },
  {
   "cell_type": "markdown",
   "metadata": {},
   "source": [
    "# 运输问题"
   ]
  },
  {
   "cell_type": "markdown",
   "metadata": {},
   "source": [
    "## model\n",
    "$$\n",
    "\\min Z=\\sum_{i=1}^{m} \\sum_{j=1}^{n} c_{i j} x_{i j}\\\\\n",
    "\\text { s.t. }\\left\\{\\begin{array}{ll}{\\sum\\limits_{j=1}^{n} x_{i j} \\leqslant a_{i},} & {i=1,2, \\cdots, m} \\\\ {\\sum\\limits_{i=1}^{m} x_{i j} \\geqslant b_{j},} & {j=1,2, \\cdots, n} \\\\ {x_{i j} \\geqslant 0,} & {i=1,2, \\cdots, m ; j=1,2, \\cdots, n}\\end{array}\\right.\n",
    "$$\n",
    "<img src=\"yunshu.png\" width=\"80%\">"
   ]
  },
  {
   "cell_type": "code",
   "execution_count": 3,
   "metadata": {},
   "outputs": [
    {
     "name": "stdout",
     "output_type": "stream",
     "text": [
      "Optimize a model with 29 rows, 20 columns and 60 nonzeros\n",
      "Variable types: 0 continuous, 20 integer (0 binary)\n",
      "Coefficient statistics:\n",
      "  Matrix range     [1e+00, 1e+00]\n",
      "  Objective range  [1e+00, 1e+01]\n",
      "  Bounds range     [0e+00, 0e+00]\n",
      "  RHS range        [1e+01, 8e+01]\n",
      "Found heuristic solution: objective 636.0000000\n",
      "Presolve removed 20 rows and 0 columns\n",
      "Presolve time: 0.00s\n",
      "Presolved: 9 rows, 20 columns, 40 nonzeros\n",
      "Variable types: 0 continuous, 20 integer (0 binary)\n",
      "\n",
      "Root relaxation: objective 3.310000e+02, 7 iterations, 0.00 seconds\n",
      "\n",
      "    Nodes    |    Current Node    |     Objective Bounds      |     Work\n",
      " Expl Unexpl |  Obj  Depth IntInf | Incumbent    BestBd   Gap | It/Node Time\n",
      "\n",
      "*    0     0               0     331.0000000  331.00000  0.00%     -    0s\n",
      "\n",
      "Explored 0 nodes (7 simplex iterations) in 0.04 seconds\n",
      "Thread count was 8 (of 8 available processors)\n",
      "\n",
      "Solution count 2: 331 636 \n",
      "\n",
      "Optimal solution found (tolerance 1.00e-04)\n",
      "Best objective 3.310000000000e+02, best bound 3.310000000000e+02, gap 0.0000%\n",
      "\n",
      "x_star =\n",
      "\n",
      "     2    20     0    18     0\n",
      "     0     0    10     0     0\n",
      "     0     0     5     0    25\n",
      "     8     0     0     0     0\n",
      "\n",
      "\n",
      "z_star =\n",
      "\n",
      "   331\n",
      "\n",
      "\n"
     ]
    }
   ],
   "source": [
    "clear;clc;close all;\n",
    "\n",
    "c = [1 3 5 7 13; 6 4 3 14 8; 13 3 1 7 4;\n",
    "    1 10 12 7 11];\n",
    "a = [40 50 30 80];\n",
    "b = [10 20 15 18 25];\n",
    "\n",
    "%决策变量\n",
    "x = intvar(4,5);\n",
    "\n",
    "%目标函数\n",
    "z = sum(sum(c.*x));\n",
    "\n",
    "%添加约束\n",
    "C = [];\n",
    "for i=1:4\n",
    "    C = [C; sum(x(i,:))<=a(i)];\n",
    "end\n",
    "for j=1:5\n",
    "    C = [C;sum(x(:,j))>=b(j)];\n",
    "end\n",
    "\n",
    "C = [C;x>=0];\n",
    "\n",
    "result = optimize(C,z);\n",
    "if result.problem == 0    %求解成功\n",
    "    x_star = double(x)\n",
    "    z_star = double(z)\n",
    "    else\n",
    "    disp('求解过程中出错');\n",
    "end"
   ]
  },
  {
   "cell_type": "code",
   "execution_count": null,
   "metadata": {},
   "outputs": [],
   "source": []
  }
 ],
 "metadata": {
  "kernelspec": {
   "display_name": "Matlab",
   "language": "matlab",
   "name": "matlab"
  },
  "language_info": {
   "codemirror_mode": "octave",
   "file_extension": ".m",
   "help_links": [
    {
     "text": "MetaKernel Magics",
     "url": "https://metakernel.readthedocs.io/en/latest/source/README.html"
    }
   ],
   "mimetype": "text/x-octave",
   "name": "matlab",
   "version": "0.16.7"
  },
  "toc-autonumbering": true,
  "toc-showmarkdowntxt": true
 },
 "nbformat": 4,
 "nbformat_minor": 4
}
