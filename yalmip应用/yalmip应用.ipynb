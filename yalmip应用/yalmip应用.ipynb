{
 "cells": [
  {
   "cell_type": "markdown",
   "metadata": {
    "toc-hr-collapsed": false
   },
   "source": [
    "# YALMIP应用篇\n",
    "yalmip是一个在matlab内的建模工具包，能够用一套统一的建模语言来构建约束，调用其他的求解器，减少了单独学习其他语言的浪费\n",
    "我根据论文\n",
    ">俞武扬. YALMIP工具箱在运筹学实验教学中的应用[J]. 实验室研究与探索, 2017(8).\n",
    "\n",
    "由于该论文的代码有错误，我改写了一下 以下例子为论文中的例子 1.一般线性规划 2.运输问题 3.背包问题 4.指派问题 5.最短路问题 "
   ]
  },
  {
   "cell_type": "markdown",
   "metadata": {},
   "source": [
    "## yalmip基本格式\n",
    "\n",
    "1. 创建决策变量\n",
    "2. 目标函数 `z`\n",
    "3. 约束条件设置 `C`\n",
    "4. 参数设置 \n",
    "`ops = sdpsetting('solver','Cplex','verbose',0);  verbose:显示冗余度` 0为只显示结果\n",
    "5. 求解\n",
    "`result = solvesdp(C,z,ops)`"
   ]
  },
  {
   "cell_type": "markdown",
   "metadata": {},
   "source": [
    "# 一般线性规划"
   ]
  },
  {
   "cell_type": "markdown",
   "metadata": {},
   "source": [
    "## model\n",
    "$$\n",
    "\\begin{array}{l}{\\min Z=C X} \\\\ {\\text { s.t. }\\left\\{\\begin{array}{l}{A X=b} \\\\ {X \\geqslant 0}\\end{array}\\right.}\\end{array}\n",
    "$$"
   ]
  },
  {
   "cell_type": "markdown",
   "metadata": {},
   "source": [
    "## 例子\n",
    "$$\n",
    "\\min Z=12 x_{1}+5 x_{2}+8 x_{3}\\\\\n",
    "\\text { s.t. }\\left\\{\\begin{array}{l}{2 x_{1}+3 x_{2}+x_{3} \\geqslant 30} \\\\ {4 x_{1}+x_{2}+5 x_{3} \\geqslant 15} \\\\ {x_{1}, x_{2}, x_{3} \\geqslant 0}\\end{array}\\right.\n",
    "$$"
   ]
  },
  {
   "cell_type": "code",
   "execution_count": 1,
   "metadata": {},
   "outputs": [
    {
     "name": "stdout",
     "output_type": "stream",
     "text": [
      "警告: 文件: C:\\Program Files\\IBM\\ILOG\\CPLEX_Studio_Community128\\cplex\\matlab\\x64_win64\\@Cplex\\Cplex.p 行: 965 列: 0\n",
      "在嵌套函数中定义 \"changedParam\" 会将其与父函数共享。在以后的版本中，要在父函数和嵌套函数之间共享 \"changedParam\"，请在父函数中显式定义它。\n",
      "> In cplexoptimset\n",
      "  In sdpsettings>setup_cplex_options (line 617)\n",
      "  In sdpsettings (line 145)\n",
      "\n",
      "x_star =\n",
      "\n",
      "         0\n",
      "    9.6429\n",
      "    1.0714\n",
      "\n",
      "\n",
      "z_star =\n",
      "\n",
      "   56.7857\n",
      "\n",
      "\n"
     ]
    }
   ],
   "source": [
    "                     clear;clc;close all;\n",
    "\n",
    "c = [12 5 8];\n",
    "A = [2 3 1; 4 1 5];\n",
    "b = [30; 15];\n",
    "\n",
    "%决策变量\n",
    "x = sdpvar(3,1);\n",
    "\n",
    "%目标函数\n",
    "z = c*x;\n",
    "\n",
    "%添加约束\n",
    "%C = [];\n",
    "%C = [C; A*x >= b];\n",
    "%C = [C;x>=0];\n",
    "C=[A*x >= b,x>=0];\n",
    "ops=sdpsettings('verbose',0);\n",
    "%求解\n",
    "result = optimize(C,z,ops);\n",
    "if result.problem == 0    %求解成功\n",
    "    x_star=double(x)\n",
    "    z_star=double(z)\n",
    "    else\n",
    "    disp('求解过程中出错');\n",
    "end"
   ]
  },
  {
   "cell_type": "markdown",
   "metadata": {},
   "source": [
    "# 运输问题"
   ]
  },
  {
   "cell_type": "markdown",
   "metadata": {},
   "source": [
    "## model\n",
    "$$\n",
    "\\min Z=\\sum_{i=1}^{m} \\sum_{j=1}^{n} c_{i j} x_{i j}\\\\\n",
    "\\text { s.t. }\\left\\{\\begin{array}{ll}{\\sum\\limits_{j=1}^{n} x_{i j} \\leqslant a_{i},} & {i=1,2, \\cdots, m} \\\\ {\\sum\\limits_{i=1}^{m} x_{i j} \\geqslant b_{j},} & {j=1,2, \\cdots, n} \\\\ {x_{i j} \\geqslant 0,} & {i=1,2, \\cdots, m ; j=1,2, \\cdots, n}\\end{array}\\right.\n",
    "$$\n",
    "\n",
    "<img src=\"yunshu.png\" width=\"80%\">"
   ]
  },
  {
   "cell_type": "markdown",
   "metadata": {},
   "source": [
    "## 例子"
   ]
  },
  {
   "cell_type": "code",
   "execution_count": 2,
   "metadata": {},
   "outputs": [
    {
     "name": "stdout",
     "output_type": "stream",
     "text": [
      "\n",
      "x_star =\n",
      "\n",
      "     2    20     0    18     0\n",
      "     0     0    10     0     0\n",
      "     0     0     5     0    25\n",
      "     8     0     0     0     0\n",
      "\n",
      "\n",
      "z_star =\n",
      "\n",
      "   331\n",
      "\n",
      "\n"
     ]
    }
   ],
   "source": [
    "clear;clc;close all;\n",
    "\n",
    "c = [1 3 5 7 13; 6 4 3 14 8; 13 3 1 7 4;\n",
    "    1 10 12 7 11];\n",
    "a = [40 50 30 80];\n",
    "b = [10 20 15 18 25];\n",
    "\n",
    "%决策变量\n",
    "x = intvar(4,5);\n",
    "\n",
    "%目标函数\n",
    "z = sum(sum(c.*x));\n",
    "\n",
    "%添加约束\n",
    "C = [];\n",
    "for i=1:4\n",
    "    C = [C; sum(x(i,:))<=a(i)];\n",
    "end\n",
    "for j=1:5\n",
    "    C = [C;sum(x(:,j))>=b(j)];\n",
    "end\n",
    "\n",
    "C = [C;x>=0];\n",
    "ops=sdpsettings('verbose',0);\n",
    "\n",
    "result = optimize(C,z,ops);\n",
    "if result.problem == 0    %求解成功\n",
    "    x_star = double(x)\n",
    "    z_star = double(z)\n",
    "    else\n",
    "    disp('求解过程中出错');\n",
    "end"
   ]
  },
  {
   "cell_type": "markdown",
   "metadata": {},
   "source": [
    "# 指派问题\n"
   ]
  },
  {
   "cell_type": "markdown",
   "metadata": {},
   "source": [
    "## model\n",
    "$$\n",
    "\\max Z=\\sum_{i=1}^{n} x_{i} e_{i}\\\\\n",
    "\\text { s.t. }\\left\\{\\begin{array}{l}{\\sum_{i=1}^{n} x_{i} w_{i} \\leqslant W} \\\\ \n",
    "{\\sum_{i=1}^{n} x_{i} v_{i} \\leqslant V} \\\\ \n",
    "{0 \\leqslant x_{i} \\leqslant c_{i} \\quad \\text{且为整数}}\\end{array}\\right.\n",
    "$$\n",
    "\n"
   ]
  },
  {
   "cell_type": "markdown",
   "metadata": {},
   "source": [
    "## 例子 \n",
    "<img src=\"binpack.png\" width=\"80%\">"
   ]
  },
  {
   "cell_type": "code",
   "execution_count": 3,
   "metadata": {},
   "outputs": [
    {
     "name": "stdout",
     "output_type": "stream",
     "text": [
      "\n",
      "x_star =\n",
      "\n",
      "     1\n",
      "     0\n",
      "     3\n",
      "     1\n",
      "     0\n",
      "     4\n",
      "     3\n",
      "     0\n",
      "     0\n",
      "     0\n",
      "\n",
      "\n",
      "z_star =\n",
      "\n",
      "   120\n",
      "\n",
      "\n"
     ]
    }
   ],
   "source": [
    "clear;clc;close all;\n",
    "\n",
    "c = [8 1 11 12 9 10 9 5 8 3]; %效用\n",
    "w = [17 19 3 19 13 2 6 11 20 20]; %重量\n",
    "v = [2 10 10 5 9 2 5 10 8 10];  %体积\n",
    "n = [5 2 4 3 5 4 3 1 5 3];   %数量\n",
    "\n",
    "%决策变量\n",
    "x = intvar(10,1);\n",
    "\n",
    "%目标函数\n",
    "z = -(c*x);\n",
    "\n",
    "%添加约束\n",
    "C = [];\n",
    "C = [C,w*x<=80];\n",
    "C = [C,v*x<=60];\n",
    "C = [C,0<=x<=n];\n",
    "\n",
    "ops=sdpsettings('verbose',0);\n",
    "%求解\n",
    "result = optimize(C,z,ops);\n",
    "if result.problem == 0    %求解成功\n",
    "    x_star = double(x)\n",
    "    z_star = double(-z)\n",
    "    else\n",
    "    disp('求解过程中出错');\n",
    "end"
   ]
  },
  {
   "cell_type": "markdown",
   "metadata": {},
   "source": [
    "# 最短路问题"
   ]
  },
  {
   "cell_type": "code",
   "execution_count": 4,
   "metadata": {},
   "outputs": [
    {
     "name": "stdout",
     "output_type": "stream",
     "text": [
      "\n",
      "x_star =\n",
      "\n",
      "   NaN     1     0     0     0     0     0\n",
      "     0   NaN     0     0     1     0     0\n",
      "     0     0   NaN     0     0     0     0\n",
      "     0     0     0   NaN     0     0     0\n",
      "     0     0     0     0   NaN     0     1\n",
      "     0     0     0     0     0   NaN     0\n",
      "     0     0     0     0     0     0   NaN\n",
      "\n",
      "\n",
      "z_star =\n",
      "\n",
      "     5\n",
      "\n",
      "\n"
     ]
    }
   ],
   "source": [
    "% 利用yamlip求解最短路问题\n",
    "clear;clc;close all;\n",
    "C = load('1.txt');\n",
    "n = size(C,1);\n",
    "\n",
    "% 决策变量\n",
    "x = binvar(n,n,'full');\n",
    "\n",
    "% 目标\n",
    "z=sum(sum(C.*x));\n",
    "% 约束添加\n",
    "C=[];\n",
    "C = [C,(sum(x(1,:))-sum(x(:,1))==1)];\n",
    "C = [C,(sum(x(n,:))-sum(x(:,n))==-1)];\n",
    "\n",
    "for i=2:(n-1)\n",
    "    C = [C,(sum(x(i,:))-sum(x(:,i))==0)];\n",
    "end\n",
    "\n",
    "ops=sdpsettings('verbose',0);\n",
    "% 求解\n",
    "result=solvesdp(C,z,ops);\n",
    "if result.problem == 0\n",
    "    x_star = value(x)\n",
    "    z_star = value(z)\n",
    "else\n",
    "    disp('求解过程中出错');\n",
    "end"
   ]
  },
  {
   "cell_type": "markdown",
   "metadata": {},
   "source": [
    "# 指派问题    "
   ]
  },
  {
   "cell_type": "markdown",
   "metadata": {},
   "source": [
    "## model\n",
    "$$\n",
    "\\min Z=\\sum_{i=1}^{n} \\sum_{j=1}^{n} c_{i j} x_{i j}\\\\\n",
    "\\text { s.t. }\\left\\{\\begin{array}{ll}{\\sum_{i=1}^{n} x_{i j}=1,} & {j=1,2, \\cdots, n} \\\\ {\\sum_{j=1}^{n} x_{i j}=1,} & {i=1,2, \\cdots, n} \\\\ {x_{i j} \\in\\{0,1\\},} & {i, j=1,2, \\cdots, n}\\end{array}\\right.\n",
    "$$\n"
   ]
  },
  {
   "cell_type": "markdown",
   "metadata": {},
   "source": [
    "## 例子\n",
    "<img src=\"zhipai.png\" width=\"80%\">"
   ]
  },
  {
   "cell_type": "code",
   "execution_count": 5,
   "metadata": {},
   "outputs": [
    {
     "name": "stdout",
     "output_type": "stream",
     "text": [
      "\n",
      "c =\n",
      "\n",
      "    12     7     9     7     9\n",
      "     8     9     6     6     6\n",
      "     7    17    12    14     9\n",
      "    15    14     6     6    10\n",
      "     4    10     7    10     9\n",
      "\n",
      "\n",
      "x_star =\n",
      "\n",
      "     0     1     0     0     0\n",
      "     0     0     0     1     0\n",
      "     0     0     0     0     1\n",
      "     0     0     1     0     0\n",
      "     1     0     0     0     0\n",
      "\n",
      "\n",
      "z_star =\n",
      "\n",
      "    32\n",
      "\n",
      "\n"
     ]
    }
   ],
   "source": [
    "clear;clc;close all;\n",
    "c =load('zhipai.txt')\n",
    "\n",
    "\n",
    "%决策变量\n",
    "x = binvar(5,5,'full');\n",
    "\n",
    "%目标函数\n",
    "z = sum(sum(c.*x));\n",
    "\n",
    "%添加约束\n",
    "C = [];\n",
    "\n",
    "C = [C;sum(x,1)==1];   %  1 横向相加\n",
    "C = [C;sum(x,2)==1];   %  2 纵向相加 \n",
    "\n",
    "ops=sdpsettings('verbose',0);\n",
    "%求解\n",
    "result = optimize(C,z,ops);\n",
    "if result.problem == 0    %求解成功\n",
    "    x_star = double(x)\n",
    "    z_star = double(z)\n",
    "    else\n",
    "    disp('求解过程中出错');\n",
    "end"
   ]
  }
 ],
 "metadata": {
  "kernelspec": {
   "display_name": "Matlab",
   "language": "matlab",
   "name": "matlab"
  },
  "language_info": {
   "codemirror_mode": "octave",
   "file_extension": ".m",
   "help_links": [
    {
     "text": "MetaKernel Magics",
     "url": "https://metakernel.readthedocs.io/en/latest/source/README.html"
    }
   ],
   "mimetype": "text/x-octave",
   "name": "matlab",
   "version": "0.16.7"
  },
  "toc-autonumbering": true,
  "toc-showcode": false,
  "toc-showmarkdowntxt": true
 },
 "nbformat": 4,
 "nbformat_minor": 4
}
